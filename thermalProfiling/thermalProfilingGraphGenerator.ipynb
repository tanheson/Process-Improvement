{
 "cells": [
  {
   "cell_type": "code",
   "execution_count": null,
   "metadata": {},
   "outputs": [
    {
     "ename": "",
     "evalue": "",
     "output_type": "error",
     "traceback": [
      "\u001b[1;31mThe kernel failed to start as the Python Environment 'Python 3.10.9' is no longer available. Consider selecting another kernel or refreshing the list of Python Environments."
     ]
    }
   ],
   "source": [
    "import os\n",
    "import pandas as pd\n",
    "import matplotlib.pyplot as plt\n",
    "\n",
    "# Define the root directory\n",
    "root_dir = r'U:\\NVL\\HX\\A0\\results_experimental\\Thermal Profile'\n",
    "\n",
    "# Initialize lists for each data series\n",
    "dts_x = []\n",
    "dts_y = []\n",
    "tc_x = []\n",
    "tc_y = []\n",
    "fb_x = []\n",
    "fb_y = []\n",
    "\n",
    "# Function to process each file\n",
    "def process_file(file_path):\n",
    "    try:\n",
    "        xl = pd.ExcelFile(file_path)\n",
    "        if 'SearchVoltage Results' in xl.sheet_names:\n",
    "            df = pd.read_excel(file_path, sheet_name='SearchVoltage Results')\n",
    "            required_cols = ['run_order', 'cmvprofiling.Max_DTS_Profile_avg', \n",
    "                           'cmvprofiling.Intec_TC_Profile_avg', 'cmvprofiling.Intec_FB_Profile_avg']\n",
    "            if all(col in df.columns for col in required_cols):\n",
    "                dts_x.extend(df['run_order'].dropna().tolist())\n",
    "                dts_y.extend(df['cmvprofiling.Max_DTS_Profile_avg'].dropna().tolist())\n",
    "                tc_x.extend(df['run_order'].dropna().tolist())\n",
    "                tc_y.extend(df['cmvprofiling.Intec_TC_Profile_avg'].dropna().tolist())\n",
    "                fb_x.extend(df['run_order'].dropna().tolist())\n",
    "                fb_y.extend(df['cmvprofiling.Intec_FB_Profile_avg'].dropna().tolist())\n",
    "    except Exception as e:\n",
    "        print(f\"Error processing {file_path}: {e}\")\n",
    "\n",
    "# Traverse the directory structure\n",
    "try:\n",
    "    main_folders = [f for f in os.listdir(root_dir) if 'D3' in f or 'D4' in f]\n",
    "    for main in main_folders:\n",
    "        main_path = os.path.join(root_dir, main)\n",
    "        for dirpath, dirnames, filenames in os.walk(main_path):\n",
    "            for filename in filenames:\n",
    "                if filename.endswith('.xlsx') and ('HotVmin' in filename or 'HotGNG' in filename):\n",
    "                    file_path = os.path.join(dirpath, filename)\n",
    "                    process_file(file_path)\n",
    "except Exception as e:\n",
    "    print(f\"Error traversing directories: {e}\")\n",
    "\n",
    "# Create the plot\n",
    "plt.figure(figsize=(12, 8))\n",
    "plt.scatter(dts_x, dts_y, color='blue', label='cmvprofiling.Max_DTS_Profile_avg')\n",
    "plt.scatter(tc_x, tc_y, color='green', label='cmvprofiling.Intec_TC_Profile_avg')\n",
    "plt.scatter(fb_x, fb_y, color='red', label='cmvprofiling.Intec_FB_Profile_avg')\n",
    "\n",
    "plt.title('Max_DTS_Profiling')\n",
    "plt.xlabel('run_order')\n",
    "plt.ylabel('Temperature')\n",
    "plt.legend(loc='upper right')\n",
    "plt.grid(True)\n",
    "plt.tight_layout()  # Adjust layout to prevent label cutoff\n",
    "plt.show()  # Commented out to avoid execution"
   ]
  }
 ],
 "metadata": {
  "kernelspec": {
   "display_name": ".venv",
   "language": "python",
   "name": "python3"
  },
  "language_info": {
   "name": "python",
   "version": "3.9.13"
  }
 },
 "nbformat": 4,
 "nbformat_minor": 2
}
